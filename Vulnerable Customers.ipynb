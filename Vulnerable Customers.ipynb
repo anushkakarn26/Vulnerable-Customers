{
 "cells": [
  {
   "cell_type": "markdown",
   "metadata": {},
   "source": [
    "# Vulnerable Customers\n",
    "\n",
    "4 key drivers of vulnerability:\n",
    "1. Health – disabilities or illnesses that affect the ability to carry out day-to-day tasks\n",
    "2. Life Events – major life events such as bereavement, job loss or relationship breakdown\n",
    "3. Resilience – low ability to withstand financial or emotional shocks\n",
    "4. Capability – low knowledge of financial matters or low confidence in managing money (financial capability) and low capability in other relevant areas such as literacy, or digital skills\n",
    "\n",
    "Which we can normalise into distinct topics, e.g.:\n",
    "1. Death\n",
    "2. Redundancy\n",
    "3. Furlough\n",
    "etc...\n",
    "\n",
    "Potential approaches:\n",
    "1. Bag-of-Words: will need enough training data for us to come to some sensible features. This will essentially be a goal-seeking exercise because sensible features will need to include synonyms of the topic at hand.\n",
    "2. Similarity measure: use a WordNet based similarity measure to monitor stream of text for mention of words close in meaning to these topics, ie. synonyms.\n",
    "\n",
    "Let's start with the simpler option: approach 2, as this requires no training data."
   ]
  },
  {
   "cell_type": "markdown",
   "metadata": {},
   "source": [
    "# NLTK semantic similarity"
   ]
  },
  {
   "cell_type": "code",
   "execution_count": 1,
   "metadata": {
    "ExecuteTime": {
     "end_time": "2020-10-07T12:27:25.964025Z",
     "start_time": "2020-10-07T12:27:24.248385Z"
    }
   },
   "outputs": [],
   "source": [
    "# import functions to be used, this will also import Pandas and NumPy\n",
    "import synonym as syn"
   ]
  },
  {
   "cell_type": "code",
   "execution_count": 2,
   "metadata": {
    "ExecuteTime": {
     "end_time": "2020-10-07T12:27:26.101297Z",
     "start_time": "2020-10-07T12:27:26.056322Z"
    }
   },
   "outputs": [
    {
     "data": {
      "text/plain": [
       "['__builtins__',\n",
       " '__cached__',\n",
       " '__doc__',\n",
       " '__file__',\n",
       " '__loader__',\n",
       " '__name__',\n",
       " '__package__',\n",
       " '__spec__',\n",
       " 'multi_topic_scorer',\n",
       " 'np',\n",
       " 'pd',\n",
       " 'prep_phrase',\n",
       " 'stopwords',\n",
       " 'topic_scorer',\n",
       " 'word_scorer',\n",
       " 'word_tokenize',\n",
       " 'wordnet']"
      ]
     },
     "execution_count": 2,
     "metadata": {},
     "output_type": "execute_result"
    }
   ],
   "source": [
    "# functions available in the synonym module\n",
    "dir(syn)"
   ]
  },
  {
   "cell_type": "markdown",
   "metadata": {},
   "source": [
    "## Usage example"
   ]
  },
  {
   "cell_type": "markdown",
   "metadata": {},
   "source": [
    "Use word_scorer on a single word to uncover it's different usages, to help with assigning the correct one in the topic_dictionary later, e.g.:"
   ]
  },
  {
   "cell_type": "code",
   "execution_count": 4,
   "metadata": {
    "ExecuteTime": {
     "end_time": "2020-10-07T12:28:39.814643Z",
     "start_time": "2020-10-07T12:28:39.791354Z"
    }
   },
   "outputs": [
    {
     "data": {
      "text/plain": [
       "[('disabled.n.01',\n",
       "  'people collectively who are crippled or otherwise physically handicapped'),\n",
       " ('disable.v.01', 'make unable to perform a certain action'),\n",
       " ('disable.v.02', 'injure permanently'),\n",
       " ('disabled.s.01',\n",
       "  'incapable of functioning as a consequence of injury or illness')]"
      ]
     },
     "execution_count": 4,
     "metadata": {},
     "output_type": "execute_result"
    }
   ],
   "source": [
    "syn.word_scorer('disabled')"
   ]
  },
  {
   "cell_type": "markdown",
   "metadata": {},
   "source": [
    "Use this to set up the topic_dictionary:"
   ]
  },
  {
   "cell_type": "code",
   "execution_count": 5,
   "metadata": {
    "ExecuteTime": {
     "end_time": "2020-10-07T12:29:32.729967Z",
     "start_time": "2020-10-07T12:29:32.722965Z"
    }
   },
   "outputs": [],
   "source": [
    "topic_dictionary = {'disability': 'disabled.n.01',\n",
    "                    'death': 'die.v.02',\n",
    "                    'health problems': 'ill.a.01',\n",
    "                    'being a carer': 'care.v.02',\n",
    "                    'living alone': 'alone.s.01',\n",
    "                    'job loss (fired)': 'discharged.s.01',\n",
    "                    'job loss (redundancy)': 'redundancy.n.02',\n",
    "                    'job loss (furlough)': 'furlough.v.01'}"
   ]
  },
  {
   "cell_type": "markdown",
   "metadata": {},
   "source": [
    "The phrase we want to analyse:"
   ]
  },
  {
   "cell_type": "code",
   "execution_count": 6,
   "metadata": {
    "ExecuteTime": {
     "end_time": "2020-10-07T12:29:35.182769Z",
     "start_time": "2020-10-07T12:29:35.178632Z"
    }
   },
   "outputs": [],
   "source": [
    "phrase = 'I worked in Adult Learning for a county council and my job was paid for by government funding. When the funds ran out, halfway through the financial year, there was suddenly no money to pay my wages. I was called to a meeting with four others (whose jobs were also dependant on the funding) and the news was broken to us. There would be a 12 week consultation period before the redundancy became final. We could choose to take the redundancy payment and go, or we could take another job in a different part of the council. If we refused the job offered to us, we could lose the redundancy settlement.'"
   ]
  },
  {
   "cell_type": "markdown",
   "metadata": {},
   "source": [
    "Score the phrase for it's similarity to each of the topics.\n",
    "The multi_topic_scorer will iterate through each word in the phrase and compare it to each topic to see if there's a match.\n",
    "A match is defined as wup_similarity between that word and the topic > sim_thresh\n",
    "We can also return_hits, to return those words in the phrase that matched with that topic"
   ]
  },
  {
   "cell_type": "code",
   "execution_count": 3,
   "metadata": {
    "ExecuteTime": {
     "end_time": "2020-10-07T10:39:59.428028Z",
     "start_time": "2020-10-07T10:39:55.080964Z"
    }
   },
   "outputs": [
    {
     "data": {
      "text/plain": [
       "{'disability': (0, []),\n",
       " 'death': (0, []),\n",
       " 'health problems': (0, []),\n",
       " 'being a carer': (0, []),\n",
       " 'living alone': (0, []),\n",
       " 'job loss (fired)': (0, []),\n",
       " 'job loss (redundancy)': (3, ['redundancy', 'redundancy', 'redundancy']),\n",
       " 'job loss (furlough)': (0, [])}"
      ]
     },
     "execution_count": 3,
     "metadata": {},
     "output_type": "execute_result"
    }
   ],
   "source": [
    "syn.multi_topic_scorer(phrase, topic_dictionary, sim_thresh=0.7, return_hits=True)"
   ]
  },
  {
   "cell_type": "markdown",
   "metadata": {},
   "source": [
    "We can also use the word_scorer to check some of these results, e.g. if there was a particular word that was identified as similar to a topic, we can run through all the usages of that word and see which one met the sim_thresh criteria.\n",
    "In this case we can check which usage of redundancy matched with redundancy, although this is a rather redundant use of the function!"
   ]
  },
  {
   "cell_type": "code",
   "execution_count": 8,
   "metadata": {
    "ExecuteTime": {
     "end_time": "2020-10-07T12:33:48.060396Z",
     "start_time": "2020-10-07T12:33:47.877291Z"
    }
   },
   "outputs": [
    {
     "data": {
      "text/plain": [
       "[('redundancy.n.01',\n",
       "  'repetition of messages to reduce the probability of errors in transmission',\n",
       "  0.25),\n",
       " ('redundancy.n.02', 'the attribute of being superfluous and unneeded', 1.0),\n",
       " ('redundancy.n.03',\n",
       "  '(electronics) a system design that duplicates components to provide alternatives in case one component fails',\n",
       "  0.2222222222222222),\n",
       " ('redundancy.n.04', 'repetition of an act needlessly', 0.2222222222222222)]"
      ]
     },
     "execution_count": 8,
     "metadata": {},
     "output_type": "execute_result"
    }
   ],
   "source": [
    "syn.word_scorer('redundancy', 'redundancy.n.02', with_similarity_score=True)"
   ]
  },
  {
   "cell_type": "code",
   "execution_count": null,
   "metadata": {},
   "outputs": [],
   "source": []
  }
 ],
 "metadata": {
  "kernelspec": {
   "display_name": "vulnerablecustomers",
   "language": "python",
   "name": "vulnerablecustomers"
  },
  "language_info": {
   "codemirror_mode": {
    "name": "ipython",
    "version": 3
   },
   "file_extension": ".py",
   "mimetype": "text/x-python",
   "name": "python",
   "nbconvert_exporter": "python",
   "pygments_lexer": "ipython3",
   "version": "3.8.5"
  },
  "toc": {
   "base_numbering": 1,
   "nav_menu": {},
   "number_sections": true,
   "sideBar": true,
   "skip_h1_title": false,
   "title_cell": "Table of Contents",
   "title_sidebar": "Contents",
   "toc_cell": false,
   "toc_position": {},
   "toc_section_display": true,
   "toc_window_display": false
  },
  "varInspector": {
   "cols": {
    "lenName": 16,
    "lenType": 16,
    "lenVar": 40
   },
   "kernels_config": {
    "python": {
     "delete_cmd_postfix": "",
     "delete_cmd_prefix": "del ",
     "library": "var_list.py",
     "varRefreshCmd": "print(var_dic_list())"
    },
    "r": {
     "delete_cmd_postfix": ") ",
     "delete_cmd_prefix": "rm(",
     "library": "var_list.r",
     "varRefreshCmd": "cat(var_dic_list()) "
    }
   },
   "types_to_exclude": [
    "module",
    "function",
    "builtin_function_or_method",
    "instance",
    "_Feature"
   ],
   "window_display": false
  }
 },
 "nbformat": 4,
 "nbformat_minor": 4
}
