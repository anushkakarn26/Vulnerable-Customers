{
 "cells": [
  {
   "cell_type": "markdown",
   "metadata": {},
   "source": [
    "# Vulnerable Customers\n",
    "\n",
    "4 key drivers of vulnerability:\n",
    "1. Health – disabilities or illnesses that affect the ability to carry out day-to-day tasks\n",
    "2. Life Events – major life events such as bereavement, job loss or relationship breakdown\n",
    "3. Resilience – low ability to withstand financial or emotional shocks\n",
    "4. Capability – low knowledge of financial matters or low confidence in managing money (financial capability) and low capability in other relevant areas such as literacy, or digital skills\n",
    "\n",
    "Normalising this into 16 distinct topics:\n",
    "1. Learning disability\n",
    "2. Low income\n",
    "3. Mental health issues\n",
    "4. Health problems\n",
    "5. Being a carer\n",
    "6. Age\n",
    "7. Physical disability\n",
    "8. Lack of connectivity\n",
    "9. Living alone\n",
    "10. Lone parent\n",
    "11. Loss of income\n",
    "12. Leaving care\n",
    "13. Bereavement\n",
    "14. Relationship breakdown\n",
    "15. Release from prison\n",
    "16. Legal proceedings\n",
    "\n",
    "Potential approaches:\n",
    "1. Bag-of-Words: will need enough training data for us to come to some sensible features. This will essentially be a goal-seeking exercise because sensible features will need to include synonyms of the topic at hand.\n",
    "2. Similarity measure: use a WordNet based similarity measure to monitor stream of text for mention of words close in meaning to these topics, ie. synonyms.\n",
    "\n",
    "Let's start with the simpler option: approach 2, as this requires no training data"
   ]
  },
  {
   "cell_type": "markdown",
   "metadata": {},
   "source": [
    "# NLTK semantic similarity"
   ]
  },
  {
   "cell_type": "code",
   "execution_count": 20,
   "metadata": {
    "ExecuteTime": {
     "end_time": "2020-10-06T20:53:27.364710Z",
     "start_time": "2020-10-06T20:53:27.330749Z"
    }
   },
   "outputs": [],
   "source": [
    "import pandas as pd\n",
    "import numpy as np\n",
    "from nltk.tokenize import word_tokenize\n",
    "from nltk.corpus import stopwords\n",
    "from nltk.corpus import wordnet\n",
    "import synonym as syn"
   ]
  },
  {
   "cell_type": "code",
   "execution_count": 91,
   "metadata": {
    "ExecuteTime": {
     "end_time": "2020-10-06T20:44:47.848164Z",
     "start_time": "2020-10-06T20:44:47.829344Z"
    }
   },
   "outputs": [],
   "source": [
    "topic_dictionary = {'disability': 'disabled.n.01',\n",
    "                    'death': 'die.v.02',\n",
    "                    'health problems': 'ill.a.01',\n",
    "                    'being a carer': 'care.v.02',\n",
    "                    'living alone': 'alone.s.01',\n",
    "                    'job loss (fired)': 'discharged.s.01',\n",
    "                    'job loss (redundancy)': 'redundancy.n.02',\n",
    "                    'job loss (furlough)': 'furlough.v.01'}"
   ]
  },
  {
   "cell_type": "code",
   "execution_count": 92,
   "metadata": {
    "ExecuteTime": {
     "end_time": "2020-10-06T20:44:49.122074Z",
     "start_time": "2020-10-06T20:44:48.785385Z"
    }
   },
   "outputs": [
    {
     "data": {
      "text/plain": [
       "{'disability': (0, []),\n",
       " 'death': (0, []),\n",
       " 'health problems': (0, []),\n",
       " 'being a carer': (0, []),\n",
       " 'living alone': (0, []),\n",
       " 'job loss (fired)': (0, []),\n",
       " 'job loss (redundancy)': (3, ['redundancy', 'redundancy', 'redundancy']),\n",
       " 'job loss (furlough)': (0, [])}"
      ]
     },
     "execution_count": 92,
     "metadata": {},
     "output_type": "execute_result"
    }
   ],
   "source": [
    "phrase = 'I worked in Adult Learning for a county council and my job was paid for by government funding. When the funds ran out, halfway through the financial year, there was suddenly no money to pay my wages. I was called to a meeting with four others (whose jobs were also dependant on the funding) and the news was broken to us. There would be a 12 week consultation period before the redundancy became final. We could choose to take the redundancy payment and go, or we could take another job in a different part of the council. If we refused the job offered to us, we could lose the redundancy settlement.'\n",
    "syn.phrase_scorer(phrase, topic_dictionary, sim_thresh=0.7, return_hits=True)"
   ]
  },
  {
   "cell_type": "code",
   "execution_count": null,
   "metadata": {},
   "outputs": [],
   "source": [
    "# Suman: how best to share this .py file, does code look clean and tidy?\n",
    "# ALex"
   ]
  }
 ],
 "metadata": {
  "kernelspec": {
   "display_name": "vulnerablecustomers",
   "language": "python",
   "name": "vulnerablecustomers"
  },
  "language_info": {
   "codemirror_mode": {
    "name": "ipython",
    "version": 3
   },
   "file_extension": ".py",
   "mimetype": "text/x-python",
   "name": "python",
   "nbconvert_exporter": "python",
   "pygments_lexer": "ipython3",
   "version": "3.8.5"
  },
  "toc": {
   "base_numbering": 1,
   "nav_menu": {},
   "number_sections": true,
   "sideBar": true,
   "skip_h1_title": false,
   "title_cell": "Table of Contents",
   "title_sidebar": "Contents",
   "toc_cell": false,
   "toc_position": {},
   "toc_section_display": true,
   "toc_window_display": false
  },
  "varInspector": {
   "cols": {
    "lenName": 16,
    "lenType": 16,
    "lenVar": 40
   },
   "kernels_config": {
    "python": {
     "delete_cmd_postfix": "",
     "delete_cmd_prefix": "del ",
     "library": "var_list.py",
     "varRefreshCmd": "print(var_dic_list())"
    },
    "r": {
     "delete_cmd_postfix": ") ",
     "delete_cmd_prefix": "rm(",
     "library": "var_list.r",
     "varRefreshCmd": "cat(var_dic_list()) "
    }
   },
   "types_to_exclude": [
    "module",
    "function",
    "builtin_function_or_method",
    "instance",
    "_Feature"
   ],
   "window_display": false
  }
 },
 "nbformat": 4,
 "nbformat_minor": 4
}
